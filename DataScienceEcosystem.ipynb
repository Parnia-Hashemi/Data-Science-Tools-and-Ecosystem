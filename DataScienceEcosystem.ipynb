{
 "cells": [
  {
   "cell_type": "markdown",
   "id": "17241926-247a-4236-981a-e461e54fe25b",
   "metadata": {},
   "source": [
    "# Data Science Tools and Ecosystem"
   ]
  },
  {
   "cell_type": "markdown",
   "id": "02f0c027-065e-4072-8c2c-a01a801b8768",
   "metadata": {},
   "source": [
    "In this notebook, Data Science Tools and Ecosystem are summarized."
   ]
  },
  {
   "cell_type": "markdown",
   "id": "707d57f0-dfe7-4fa1-8f1b-cf09806f0f5f",
   "metadata": {},
   "source": [
    "<b> Objectives: </b>\n",
    "<ul>\n",
    "  <li>Some of the popular languages for Data Science</li>\n",
    "  <li>Some of the commonly used libraries used by Data Scientists</li>\n",
    "  <li>Some development environments open source tools used in data science.</li>\n",
    "</ul>"
   ]
  },
  {
   "cell_type": "markdown",
   "id": "370b1878-e0b4-401b-b68a-4d4f3a9cc709",
   "metadata": {},
   "source": [
    "#### Some of the popular languages that Data Scientists use are:\n",
    "<ol type=\"1\">\n",
    "  <li>Python</li>\n",
    "  <li>R</li>\n",
    "  <li>SQL</li>\n",
    "</ol>"
   ]
  },
  {
   "cell_type": "markdown",
   "id": "a8d121a2-f874-44be-b056-e763b6a4dec5",
   "metadata": {
    "tags": []
   },
   "source": [
    "#### Some of the commonly used libraries used by Data Scientists include:\n",
    "<ol type=\"1\">\n",
    "  <li>Pandas</li>\n",
    "  <li>NumPy</li>\n",
    "  <li>Matplotlib</li>\n",
    "</ol>"
   ]
  },
  {
   "cell_type": "markdown",
   "id": "0a480712-74b9-4626-8836-3fea99dd00d2",
   "metadata": {
    "tags": []
   },
   "source": [
    "<table style=\"width:100%\">\n",
    "  <tr>\n",
    "    <h4>Data Science Tools</h4>\n",
    "  </tr>\n",
    "  <tr>\n",
    "    <td>Jupyter Notebook</td>\n",
    "  </tr>\n",
    "  <tr>\n",
    "    <td>JupyterLite</td>\n",
    "  </tr>\n",
    "  <tr>\n",
    "    <td>Google Colaboratory</td>\n",
    "  </tr>\n",
    "</table>"
   ]
  },
  {
   "cell_type": "markdown",
   "id": "0cfb907d-0da9-4caf-bc78-8f285c49ca6d",
   "metadata": {},
   "source": [
    "### Below are a few examples of evaluating arithmetic expressions in Python"
   ]
  },
  {
   "cell_type": "code",
   "execution_count": 6,
   "id": "81d1bd18-d9fa-4ef8-89aa-80849e0d8861",
   "metadata": {
    "tags": []
   },
   "outputs": [
    {
     "data": {
      "text/plain": [
       "17"
      ]
     },
     "execution_count": 6,
     "metadata": {},
     "output_type": "execute_result"
    }
   ],
   "source": [
    "# This a simple arithmetic expression to mutiply then add integers\n",
    "(3*4)+5"
   ]
  },
  {
   "cell_type": "code",
   "execution_count": 11,
   "id": "287a3b4e-c52d-4e70-bcf0-eaaffd972603",
   "metadata": {
    "tags": []
   },
   "outputs": [
    {
     "name": "stdout",
     "output_type": "stream",
     "text": [
      "minutes to hours:  3.3333333333333335\n"
     ]
    }
   ],
   "source": [
    "minutes = 200\n",
    "hours = minutes/ 60\n",
    "print(\"minutes to hours: \", hours)"
   ]
  },
  {
   "cell_type": "markdown",
   "id": "aa62ccce-3a9d-4e99-8fd3-1eaf1dba1da4",
   "metadata": {
    "tags": []
   },
   "source": [
    "<h2> Author </h2>\n",
    "Parnia Hashemi"
   ]
  }
 ],
 "metadata": {
  "kernelspec": {
   "display_name": "Python 3 (ipykernel)",
   "language": "python",
   "name": "python3"
  },
  "language_info": {
   "codemirror_mode": {
    "name": "ipython",
    "version": 3
   },
   "file_extension": ".py",
   "mimetype": "text/x-python",
   "name": "python",
   "nbconvert_exporter": "python",
   "pygments_lexer": "ipython3",
   "version": "3.11.5"
  }
 },
 "nbformat": 4,
 "nbformat_minor": 5
}
